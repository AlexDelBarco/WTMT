{
 "cells": [
  {
   "cell_type": "markdown",
   "metadata": {},
   "source": [
    "# AS01 - Measurement Uncertainty"
   ]
  },
  {
   "cell_type": "code",
   "execution_count": 44,
   "metadata": {},
   "outputs": [],
   "source": [
    "import numpy as np\n",
    "import matplotlib.pyplot as plt"
   ]
  },
  {
   "cell_type": "markdown",
   "metadata": {},
   "source": [
    "## 2) Air Density from Measurements"
   ]
  },
  {
   "cell_type": "code",
   "execution_count": 45,
   "metadata": {},
   "outputs": [],
   "source": [
    "# Wind Speed\n",
    "v=8 #m/s\n",
    "k = 2\n",
    "Upv = 0.04\n",
    "URv = 0.04/2 #m/s\n",
    "Uv = v*Upv/k\n",
    "\n",
    "#Temperature\n",
    "T = 20+273.17 #K\n",
    "UT = (0.5/np.sqrt(3))\n",
    "\n",
    "#Prerssure\n",
    "Pa = 98000 #Pa\n",
    "UPa = 500 #Pa\n",
    "\n",
    "#Turbine\n",
    "cp = 0.45\n",
    "A = 2124 #m2\n",
    "R = 287.05 #J/(kgK)"
   ]
  },
  {
   "cell_type": "code",
   "execution_count": 46,
   "metadata": {},
   "outputs": [
    {
     "name": "stdout",
     "output_type": "stream",
     "text": [
      "0.06022458295145028\n"
     ]
    }
   ],
   "source": [
    "UP_rel = np.sqrt((((3*URv)**2)+((UPa/Pa)**2)+((-UT/T)**2)))\n",
    "print(UP_rel)"
   ]
  },
  {
   "cell_type": "code",
   "execution_count": 47,
   "metadata": {},
   "outputs": [
    {
     "name": "stdout",
     "output_type": "stream",
     "text": [
      "17160.49417621439\n"
     ]
    }
   ],
   "source": [
    "UP_abs = np.sqrt((((3*URv)**2)+((UPa/Pa)**2)+((-UT/T)**2))*(0.5*Pa/(R*T)*A*cp*(v**3))**2)\n",
    "print(UP_abs)"
   ]
  },
  {
   "cell_type": "markdown",
   "metadata": {},
   "source": [
    "## 3) Monte Carlo"
   ]
  },
  {
   "cell_type": "markdown",
   "metadata": {},
   "source": [
    "### a) Power function"
   ]
  },
  {
   "cell_type": "code",
   "execution_count": 48,
   "metadata": {},
   "outputs": [],
   "source": [
    "def power(vp, Tp, Pap):\n",
    "\n",
    "    P = 0.5*(Pap/(R*Tp))*A*cp*vp**3\n",
    "\n",
    "    return P"
   ]
  },
  {
   "cell_type": "code",
   "execution_count": 49,
   "metadata": {},
   "outputs": [
    {
     "name": "stdout",
     "output_type": "stream",
     "text": [
      "284941.6855248002\n"
     ]
    }
   ],
   "source": [
    "P_or = power(v, T, Pa)\n",
    "print(P_or)"
   ]
  },
  {
   "cell_type": "markdown",
   "metadata": {},
   "source": [
    "### b) Populations"
   ]
  },
  {
   "cell_type": "code",
   "execution_count": 50,
   "metadata": {},
   "outputs": [],
   "source": [
    "np.random.seed(42)\n",
    "n_samples = 10000\n",
    "\n",
    "# V: Gaussian Distribution\n",
    "V_mean = v\n",
    "V_uncertainty = Uv\n",
    "V_population = np.random.normal(loc=V_mean, scale=V_uncertainty, size=n_samples)\n",
    "\n",
    "# T: Uniform Distribution\n",
    "T_mean = T\n",
    "T_uncertainty = UT\n",
    "T_low = T_mean - T_uncertainty\n",
    "T_high = T_mean + T_uncertainty\n",
    "T_population = np.random.uniform(low=T_low, high=T_high, size=n_samples)\n",
    "\n",
    "# pa: Gaussian Distribution\n",
    "pa_mean = Pa\n",
    "pa_uncertainty = UPa\n",
    "pa_population = np.random.normal(loc=pa_mean, scale=pa_uncertainty, size=n_samples)\n"
   ]
  },
  {
   "cell_type": "markdown",
   "metadata": {},
   "source": [
    "### c) Power population"
   ]
  },
  {
   "cell_type": "code",
   "execution_count": 51,
   "metadata": {},
   "outputs": [],
   "source": [
    "P_population = power(V_population, T_population, pa_population)"
   ]
  },
  {
   "cell_type": "code",
   "execution_count": 52,
   "metadata": {},
   "outputs": [
    {
     "data": {
      "text/plain": [
       "array([292903.49517392, 281322.09080517, 297168.07334727, ...,\n",
       "       272407.15209163, 294113.91621155, 298266.28834153])"
      ]
     },
     "execution_count": 52,
     "metadata": {},
     "output_type": "execute_result"
    }
   ],
   "source": [
    "P_population"
   ]
  },
  {
   "cell_type": "markdown",
   "metadata": {},
   "source": [
    "### d) Best estimate, standard uncertaity and larger population for power"
   ]
  },
  {
   "cell_type": "code",
   "execution_count": 53,
   "metadata": {},
   "outputs": [],
   "source": [
    "P_mean = np.mean(P_population)\n",
    "P_std_uncertainty = np.std(P_population, ddof=1)"
   ]
  },
  {
   "cell_type": "code",
   "execution_count": 54,
   "metadata": {},
   "outputs": [
    {
     "data": {
      "text/plain": [
       "np.float64(285240.2853765573)"
      ]
     },
     "execution_count": 54,
     "metadata": {},
     "output_type": "execute_result"
    }
   ],
   "source": [
    "P_mean"
   ]
  },
  {
   "cell_type": "code",
   "execution_count": 55,
   "metadata": {},
   "outputs": [
    {
     "data": {
      "text/plain": [
       "np.float64(17246.013891579834)"
      ]
     },
     "execution_count": 55,
     "metadata": {},
     "output_type": "execute_result"
    }
   ],
   "source": [
    "P_std_uncertainty"
   ]
  },
  {
   "cell_type": "code",
   "execution_count": null,
   "metadata": {},
   "outputs": [],
   "source": []
  }
 ],
 "metadata": {
  "kernelspec": {
   "display_name": "DTU",
   "language": "python",
   "name": "python3"
  },
  "language_info": {
   "codemirror_mode": {
    "name": "ipython",
    "version": 3
   },
   "file_extension": ".py",
   "mimetype": "text/x-python",
   "name": "python",
   "nbconvert_exporter": "python",
   "pygments_lexer": "ipython3",
   "version": "3.12.5"
  }
 },
 "nbformat": 4,
 "nbformat_minor": 2
}
